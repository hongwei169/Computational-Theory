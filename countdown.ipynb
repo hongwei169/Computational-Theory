{
 "cells": [
  {
   "cell_type": "markdown",
   "metadata": {},
   "source": [
    "# Countdown Numbers Game Explanation\n",
    "\n",
    "![Logo.png](images/Logo.png)\n",
    "\n",
    "\n",
    "The Countdown numbers game is a fascinating and challenging mathematics-based game featured in the TV programme \"Countdown.\"\n",
    " \n",
    "The primary objective of the game is to reach a target number by using arithmetic operations on six randomly chosen numbers. \n",
    "\n",
    "Here’s a detailed breakdown of the game's rules and structure:\n",
    "\n",
    "## Game Setup\n",
    "\n",
    "### Number Selection:\n",
    "- Each contestant receives six numbers, randomly selected from a set consisting of:\n",
    "  - **Small numbers**: Two sets of integers from 1 to 10 (inclusive).\n",
    "  - **Large numbers**: One set of the numbers 25, 50, 75, and 100.\n",
    "- Each contestant selects six numbers from these sets, typically choosing a combination of large and small numbers.\n",
    "\n",
    "### Target Number:\n",
    "- A random target number is generated, which the contestants must reach. This number ranges between 101 and 999 (inclusive).\n",
    "\n",
    "![TargetNumber.png](images/TargetNumber.png)\n",
    "\n",
    "\n",
    "## Rules of the Game\n",
    "\n",
    "### Operations:\n",
    "- Contestants can use the four basic arithmetic operations to reach the target number:\n",
    "     - Addition  `+`\n",
    "     - Subtraction  `-`\n",
    "     - Multiplication  `*`\n",
    "     - Division  `/`\n",
    "- Each of the six chosen numbers can be used at most once in the calculation.\n",
    "- The operations can be used repeatedly and in any combination.\n",
    "\n",
    "### Calculation Restrictions:\n",
    "- Only whole numbers can be generated during the calculations. This means:\n",
    "  - Division is only permissible if it results in a whole number.\n",
    "  - Subtraction can only be used if it results in a positive number.\n",
    "\n",
    "### Objective:\n",
    "- The primary goal is to use the six numbers and arithmetic operations to calculate the target number.\n",
    "- If the exact number cannot be reached, getting as close as possible to the target number is the next best outcome.\n",
    "\n",
    "### Scoring:\n",
    "- The exact scoring rules can vary, but typically:\n",
    "  - Exact solutions receive the highest score.\n",
    "  - Solutions within a range of the target number (e.g., within 5) might receive a partial score.\n",
    "\n",
    "## Game Strategy\n",
    "- Players must strategically select their numbers, considering the balance between large and small numbers to maximize their chances of reaching or getting close to the target number.\n",
    "- The game requires not just mathematical skill but also strategic foresight and sometimes a bit of luck in the number selection.\n",
    "\n",
    "## Complexity\n",
    "- The game's complexity arises from the combinatorial nature of the number and operation selections. Players must navigate through a vast space of possible number combinations and operation sequences to reach the target number.\n",
    "\n",
    "![Example.png](images/Example.png)\n",
    "\n"
   ]
  },
  {
   "cell_type": "markdown",
   "metadata": {},
   "source": [
    "For example, the six available numbers are `75, 6, 10, 3, 5, 4` and the target number is `277`. \n",
    "\n",
    "In the figure above, the solution is shown in the white box `(75 * 4) - (6*5) + (10 - 3 ) = 277.`\n",
    "\n",
    "The solution in the example is not unique, and there are many other ways to reach the target number. \n",
    "\n",
    "The quicker way to reach the target number that I found is "
   ]
  },
  {
   "cell_type": "markdown",
   "metadata": {},
   "source": [
    "1.  `75 * 3 = 225`\n",
    "2.  `10 * 5 = 50`\n",
    "3.  `225 + 50 = 275`\n",
    "4.  `275 + 6 - 4 = 277`\n",
    "\n",
    "This solution uses only 4 operations, while the solution in the figure uses 5 operations.\n",
    "\n",
    "---"
   ]
  },
  {
   "cell_type": "markdown",
   "metadata": {},
   "source": [
    "# Deeper Analysis of Computational Complexity\n",
    "\n",
    "The computational complexity of the Countdown numbers game is a multifaceted issue that encompasses the combinatorial explosion of number combinations and the permutations of operations. This section aims to provide a deeper understanding of these complexities and their implications on potential solution strategies.\n",
    "\n",
    "## Combinatorial Explosion\n",
    "\n",
    "### Number Combinations\n",
    "\n",
    "The initial set of numbers for the game includes up to two copies of integers from 1 to 10 and one copy each of 25, 50, 75, and 100, leading to a vast number of potential combinations. The combinatorial nature of selecting six numbers from this set already introduces complexity, especially when considering duplicates.\n",
    "\n",
    "Given \\(n\\) numbers where \\(n = 6\\), and allowing for repetition, the number of unique sets can be calculated using the formula for combinations with repetition: \\(\\binom{n + r - 1}{r}\\), where \\(r\\) is the size of the subset chosen. However, since numbers can be repeated and their order in operation matters, this only scratches the surface of the complexity.\n",
    "\n",
    "### Operation Permutations\n",
    "\n",
    "For any solution attempt, there are four operations that can be applied: addition, subtraction, multiplication, and division. The sequence in which these operations are applied to the selected numbers significantly increases the solution space. If we consider a simple case of applying operations to just two numbers, there are 4 possible operations. When applying operations sequentially across multiple numbers, the permutations grow exponentially.\n",
    "\n",
    "\n"
   ]
  },
  {
   "cell_type": "markdown",
   "metadata": {},
   "source": [
    "## Algorithmic Implications\n",
    "\n",
    "### Brute-force Approach\n",
    "\n",
    "A brute-force approach, attempting every possible combination of numbers and operations, faces a factorial growth in complexity. For six numbers, considering sequential operations without repetition, the complexity can be approximated as \\(O(n! \\cdot 4^n)\\), accounting for both the permutation of number order and the selection of operations. This is straightforward but computationally expensive.\n",
    "\n",
    "### Search Space Reduction\n",
    "\n",
    "Reducing the search space is critical for a feasible solution. Techniques such as pruning (eliminating branches of the search tree that cannot possibly lead to the target number) and memoization (caching the results of subproblems to avoid redundant calculations) are vital.\n",
    "\n",
    "### Heuristic Approaches\n",
    "\n",
    "Heuristic approaches aim to intelligently reduce the number of combinations and operations considered by prioritizing those more likely to lead to the target number. These approaches make decisions that seem best at the moment. For example, choosing operations that bring the current result closest to the target number. Heuristics don't guarantee an optimal solution but can significantly reduce the search space and computation time.\n",
    "\n",
    "### Dynamic Programming\n",
    "\n",
    " If a problem's solutions can be built from solutions to subproblems, dynamic programming might be a good approach. However, the unique constraints of the Countdown game (e.g., each number can only be used once) make dynamic programming less applicable here.\n",
    "\n",
    "### Backtracking and Branch-and-Bound\n",
    "\n",
    "Backtracking involves systematically exploring the solution space and abandoning paths that do not lead to a solution. Branch-and-bound improves upon this by incorporating bounds to eliminate paths that cannot outperform the best solution found so far, thereby reducing the search space. This approach systematically explores each combination of numbers and operations but backs up (backtracks) when it's clear that the current path won't lead to a solution. It's more efficient than brute force because it eliminates many unnecessary calculations.\n",
    "\n",
    "## Conclusion\n",
    "\n",
    "The Countdown numbers game presents a rich problem space characterized by combinatorial explosion and exponential growth in operation permutations. Advanced algorithmic strategies, including dynamic programming, backtracking, and heuristic methods, are essential for developing efficient solutions. This deeper analysis underscores the complexity of the game and the sophistication required in algorithm design to tackle it effectively.\n",
    "\n",
    "---"
   ]
  },
  {
   "cell_type": "markdown",
   "metadata": {},
   "source": [
    "# Implementation of the Countdown Numbers Game Solution\n",
    "\n",
    "Implementing the solution for the Countdown numbers game will require a thoughtful approach to handle the game's complexity efficiently. Given the problem's constraints and our strategy discussion, we'll proceed with a simplified backtracking algorithm. This approach will systematically explore combinations of the six numbers and the four arithmetic operations to find a solution that meets the target number or is as close as possible within the rules.\n",
    "\n"
   ]
  },
  {
   "cell_type": "markdown",
   "metadata": {},
   "source": [
    "For the sake of simplicity and clarity, this initial implementation will focus on the core logic of generating and evaluating combinations. It will:\n",
    "\n",
    "- Utilize recursion for backtracking through potential solutions.\n",
    "- Ensure operations comply with game rules (e.g., division results in whole numbers, subtraction results in positive numbers).\n",
    "- Attempt to find an exact match to the target number or the closest possible solution.\n",
    "\n",
    "Let's start by implementing the `solve_numbers` function in Python:"
   ]
  },
  {
   "cell_type": "code",
   "execution_count": 20,
   "metadata": {},
   "outputs": [],
   "source": [
    "def solve_numbers(numbers, target, verbose=False):\n",
    "    def recurse(remaining_numbers, current_total, path, used_numbers, depth=0):\n",
    "        if verbose:\n",
    "            indent = \"  \" * depth  # Indentation to visualize recursion depth\n",
    "            print(f\"{indent}Trying path: {' '.join(path)} -> Current Total: {current_total}\")\n",
    "              \n",
    "        # Update closest solution if this path is better\n",
    "        if abs(target - current_total) < closest_difference[0]:  # Access first element for comparison\n",
    "            closest_solution[0] = current_total\n",
    "            closest_solution[1] = path\n",
    "            closest_difference[0] = abs(target - current_total)  # Update first element of list\n",
    "\n",
    "        # If exactly matches target, or no numbers left, stop recursion\n",
    "        if current_total == target or not remaining_numbers:\n",
    "            return\n",
    "\n",
    "        # Explore each remaining number for potential operations\n",
    "        for i, num in enumerate(remaining_numbers):\n",
    "            if num in used_numbers:\n",
    "                continue  # Skip this number if it has already been used in the current path\n",
    "            \n",
    "            new_remaining = remaining_numbers[:i] + remaining_numbers[i+1:]\n",
    "            new_used_numbers = used_numbers | {num}  # Add this number to the set of used numbers\n",
    "            \n",
    "            # Apply addition and continue the recursion\n",
    "            recurse(new_remaining, current_total + num, path + [f'+{num}'], new_used_numbers, depth + 1)\n",
    "            # Apply subtraction if it results in a non-negative value and continue\n",
    "            if current_total - num > 0:\n",
    "                recurse(new_remaining, current_total - num, path + [f'-{num}'], new_used_numbers, depth + 1)\n",
    "            # Multiplication\n",
    "            recurse(new_remaining, current_total * num, path + [f'*{num}'], new_used_numbers, depth + 1)\n",
    "            # Division, only if no remainder\n",
    "            if num != 0 and current_total % num == 0:\n",
    "                recurse(new_remaining, current_total // num, path + [f'/{num}'], new_used_numbers, depth + 1)\n",
    "\n",
    "    closest_solution = [None, []]  # Use a list to keep mutable state\n",
    "    closest_difference = [float('inf')]  # Use a list to keep mutable state\n",
    "    \n",
    "    # Start recursive search from each number\n",
    "    for i, start_num in enumerate(numbers):\n",
    "        used_numbers = {start_num}  # Initialize used numbers with the starting number\n",
    "        recurse(numbers[:i] + numbers[i+1:], start_num, [str(start_num)], used_numbers)\n",
    "\n",
    "    return closest_solution"
   ]
  },
  {
   "cell_type": "markdown",
   "metadata": {},
   "source": [
    "#### Example Scenario 1: Exact Target Reachable\n",
    "\n",
    "**Numbers:** `[1, 3, 7, 10, 25, 50]`  \n",
    "**Target:** `731`\n",
    "\n",
    "In this scenario, we demonstrate the algorithm's ability to find an exact match to the target number. These numbers were chosen because they offer a mix of low, medium, and high values, which tests the algorithm’s capability to utilize a variety of operations effectively. The target of 731 is specifically selected to be reachable with a combination of these numbers, showcasing the best-case scenario for our solution.\n"
   ]
  },
  {
   "cell_type": "code",
   "execution_count": 21,
   "metadata": {},
   "outputs": [
    {
     "name": "stdout",
     "output_type": "stream",
     "text": [
      "\n",
      "Example Scenario 1: Exact Target Reachable\n",
      "Closest solution to 731 found: 731 with path: 3 *25 -7 *10 +1 +50\n"
     ]
    }
   ],
   "source": [
    "# Example Scenario 1: Exact Target Reachable\n",
    "numbers = [1, 3, 7, 10, 25, 50]\n",
    "target = 731\n",
    "print(\"\\nExample Scenario 1: Exact Target Reachable\")\n",
    "solution = solve_numbers(numbers, target, verbose=False)\n",
    "if solution[0] is not None:\n",
    "    print(f\"Closest solution to {target} found: {solution[0]} with path: {' '.join(solution[1])}\")\n",
    "else:\n",
    "    print(\"No solution found.\")"
   ]
  },
  {
   "cell_type": "markdown",
   "metadata": {},
   "source": [
    "**Expected Outcome:**  \n",
    "The solution should find an exact path that sums up to 731 using the given numbers and operations.\n",
    "\n",
    "**Algorithm Approach:**  \n",
    "The algorithm recursively explores different combinations of numbers and operations, aiming to reach the exact target or the closest possible value.\n",
    "\n",
    "**Output Analysis:**  \n",
    "The algorithm successfully finds the target number 731. The path `[3 *25 -7 *10 +1 +50]` demonstrates the sequential operations used to reach the target, illustrating the effectiveness of the recursive approach in handling exact match scenarios.\n"
   ]
  },
  {
   "cell_type": "markdown",
   "metadata": {},
   "source": [
    "### Example Scenario 2: No Exact Solution\n",
    "\n",
    "**Numbers:** `[1, 3, 7, 10, 25, 50]`  \n",
    "**Target:** `831`\n",
    "\n",
    "In this scenario, we explore the algorithm's ability to find the closest possible solution when an exact match to the target is not feasible with the provided numbers. The chosen numbers offer a variety of operations but might not sum up exactly to 831, testing the algorithm’s capability to optimize and approach the target as closely as possible.\n"
   ]
  },
  {
   "cell_type": "code",
   "execution_count": 22,
   "metadata": {},
   "outputs": [
    {
     "name": "stdout",
     "output_type": "stream",
     "text": [
      "\n",
      "Example Scenario 2: No Exact Solution\n"
     ]
    },
    {
     "name": "stdout",
     "output_type": "stream",
     "text": [
      "Closest solution to 831 found: 830 with path: 1 +7 +25 +50 *10\n"
     ]
    }
   ],
   "source": [
    "# Example Scenario 2: No Exact Solution\n",
    "numbers = [1, 3, 7, 10, 25, 50]\n",
    "target = 831\n",
    "print(\"\\nExample Scenario 2: No Exact Solution\")\n",
    "solution = solve_numbers(numbers, target, verbose=False)\n",
    "if solution[0] is not None:\n",
    "    print(f\"Closest solution to {target} found: {solution[0]} with path: {' '.join(solution[1])}\")\n",
    "else:\n",
    "    print(\"No solution found.\")"
   ]
  },
  {
   "cell_type": "markdown",
   "metadata": {},
   "source": [
    "#### Expected Outcome\n",
    "\n",
    "Given the complexity of reaching exactly 831 with the available numbers, the solution should ideally be the closest possible total to this target. This scenario tests the algorithm's effectiveness in optimizing and finding near solutions when exact solutions are not possible.\n",
    "\n",
    "#### Algorithm Approach\n",
    "\n",
    "The algorithm employs a recursive method that exhaustively tries all combinations of the available numbers with permitted operations (+, -, *, /). It updates the closest solution whenever a new combination provides a closer total to the target compared to previously found solutions.\n",
    "\n",
    "#### Output Analysis\n",
    "\n",
    "The algorithm identified the closest total to 831 as being `solution[0]`, achieved through the sequence of operations `{' '.join(solution[1])}`. This output demonstrates the algorithm's strategic decision-making in selecting operations that incrementally approach the target total.\n",
    "\n",
    "This scenario highlights the strengths and limitations of the algorithm in scenarios where the perfect solution is out of reach, emphasizing its utility in providing practical solutions within constrained settings.\n",
    "\n",
    "---\n"
   ]
  },
  {
   "cell_type": "markdown",
   "metadata": {},
   "source": [
    "This `solve_numbers` function is an advanced implementation combining recursive algorithmic logic with data visualization to effectively solve and demonstrate the problem-solving process in reaching or approximating a target number using a set of integers with arithmetic operations. The visualization component is particularly useful for educational purposes, allowing viewers to see how the recursive decisions build towards the solution dynamically."
   ]
  },
  {
   "cell_type": "code",
   "execution_count": 23,
   "metadata": {},
   "outputs": [],
   "source": [
    "import matplotlib.pyplot as plt\n",
    "\n",
    "def solve_numbers(numbers, target):\n",
    "    path_values = []  # To store total values for plotting\n",
    "    closest_solution = (None, [])\n",
    "    closest_difference = float('inf')\n",
    "\n",
    "    def recurse(remaining_numbers, current_total, path, used_numbers):\n",
    "        nonlocal closest_solution, closest_difference\n",
    "\n",
    "        path_values.append(current_total)  # Append current total for plotting\n",
    "\n",
    "        # Update closest solution if this path is better\n",
    "        if abs(target - current_total) < closest_difference:\n",
    "            closest_solution = (current_total, path)\n",
    "            closest_difference = abs(target - current_total)\n",
    "\n",
    "        # Stop recursion if the target is reached or no numbers left\n",
    "        if current_total == target or not remaining_numbers:\n",
    "            return\n",
    "\n",
    "        for i, num in enumerate(remaining_numbers):\n",
    "            if num in used_numbers:\n",
    "                continue  # Skip this number if it has already been used\n",
    "\n",
    "            new_remaining = remaining_numbers[:i] + remaining_numbers[i+1:]\n",
    "            new_used_numbers = used_numbers | {num}  # Add this number to the set of used numbers\n",
    "\n",
    "            # Apply each operation and continue the recursion with updated used numbers\n",
    "            recurse(new_remaining, current_total + num, path + [f'+{num}'], new_used_numbers)\n",
    "            if current_total - num > 0:\n",
    "                recurse(new_remaining, current_total - num, path + [f'-{num}'], new_used_numbers)\n",
    "            recurse(new_remaining, current_total * num, path + [f'*{num}'], new_used_numbers)\n",
    "            if num != 0 and current_total % num == 0:\n",
    "                recurse(new_remaining, current_total // num, path + [f'/{num}'], new_used_numbers)\n",
    "\n",
    "    # Start the recursive search from each number as a starting point, initializing used numbers\n",
    "    for start_num in numbers:\n",
    "        recurse(numbers, start_num, [str(start_num)], set([start_num]))\n",
    "    \n",
    "    # Plotting the progression towards the target\n",
    "    plt.figure(figsize=(10, 5))\n",
    "    plt.plot(path_values, marker='o', linestyle='-')\n",
    "    plt.title('Progression Towards Target')\n",
    "    plt.xlabel('Step Number')\n",
    "    plt.ylabel('Current Total')\n",
    "    plt.grid(True)\n",
    "    plt.show()\n",
    "\n",
    "    return closest_solution\n"
   ]
  },
  {
   "cell_type": "markdown",
   "metadata": {},
   "source": [
    "In this challenging scenario, the solve_numbers function is used to approximate a target number using a set of larger numbers. This test is designed to push the limits of the algorithm, observing its performance with higher values and how it scales."
   ]
  },
  {
   "cell_type": "markdown",
   "metadata": {},
   "source": [
    "## Example Scenario 3: Challenging Scenario\n",
    "\n",
    "In this scenario, the function `solve_numbers` is put to the test with a set of numbers that are significantly higher than those used in previous examples. The target number is also relatively high, which introduces a level of complexity to the problem. The goal here is to observe how the algorithm performs under these conditions and whether it can still find a solution that is close to the target number.\n",
    "\n",
    "**Numbers:** `[3, 8, 15, 30, 55, 80]`  \n",
    "**Target:** `945`\n",
    "\n",
    "This selection of numbers and the target are chosen to create a challenging environment for the algorithm. It is designed to push the algorithm to its limits and demonstrate how it handles cases where a straightforward or exact solution may not be immediately apparent.\n",
    "\n",
    "### Expected Outcome\n",
    "\n",
    "The larger numbers provided mean that the increments towards the target are larger with each operation. This makes it less likely for the function to find an exact match to the target number. Thus, the algorithm's efficacy in approximating the target as closely as possible, without exact matching, is put to the test.\n",
    "\n",
    "### Algorithm Approach\n",
    "\n",
    "The algorithm employs a recursive strategy to exhaustively search for the closest possible solution to the target. It is designed to track the closest solution found thus far and update this whenever a combination of numbers and operations yields a closer total to the target number."
   ]
  },
  {
   "cell_type": "code",
   "execution_count": 24,
   "metadata": {},
   "outputs": [
    {
     "name": "stdout",
     "output_type": "stream",
     "text": [
      "\n",
      "Example Scenario 3: Challenging Scenario\n"
     ]
    },
    {
     "data": {
      "image/png": "[encoded data removed]",
      "text/plain": [
       "<Figure size 1000x500 with 1 Axes>"
      ]
     },
     "metadata": {},
     "output_type": "display_data"
    },
    {
     "name": "stdout",
     "output_type": "stream",
     "text": [
      "Closest solution to 945 found: 945 with path: 3 *8 +30 *15 +55 +80\n"
     ]
    }
   ],
   "source": [
    "# Example Scenario 3: Challenging Scenario\n",
    "numbers = [3, 8, 15, 30, 55, 80]\n",
    "target = 945\n",
    "print(\"\\nExample Scenario 3: Challenging Scenario\")\n",
    "solution, path = solve_numbers(numbers, target)\n",
    "print(f\"Closest solution to {target} found: {solution} with path: {' '.join(path)}\")"
   ]
  },
  {
   "cell_type": "markdown",
   "metadata": {},
   "source": [
    "### Output Analysis\n",
    "\n",
    "After executing the function with the given set of numbers and the target of `945`, the algorithm's output is analyzed to determine the efficacy of the solution path it has discovered. The solution path provided gives us insight into the sequence of operations that the algorithm determined to be the most effective in approaching the target number.\n",
    "\n",
    "### Visualization Explanation\n",
    "\n",
    "The provided plot offers a visual representation of how the algorithm progresses towards the target number with each recursive call made. The key observations from the plot are as follows:\n",
    "\n",
    "- **Vertical Lines**: These represent significant changes in the total value, which are likely due to multiplication or division operations.\n",
    "\n",
    "- **Horizontal Lines (Plateaus)**: These suggest periods during the recursion where operations performed do not alter the total value, indicating exploration of combinations that return to previously calculated totals.\n",
    "\n",
    "- **Scale**: The wide range of total values on the vertical axis shows the algorithm exploring a diverse set of numerical combinations.\n",
    "\n",
    "- **Density of Steps**: The dense clustering of steps along the horizontal axis highlights the exhaustive nature of the search strategy employed by the algorithm.\n",
    "\n",
    "This plot is indicative of the extensive search conducted by the algorithm in its quest to find the closest solution to the target number. The fluctuations and spikes in total value illustrate the exploratory nature of the algorithm\n",
    "\n",
    "---"
   ]
  },
  {
   "cell_type": "markdown",
   "metadata": {},
   "source": [
    "## Reverse Polish Notation (RPN)\n",
    "\n",
    "\n",
    "Reverse Polish Notation (RPN), also known as postfix notation, is a mathematical notation in which operators follow their operands. It does not need any parentheses as long as each operator has a fixed number of operands. This characteristic makes it very useful for computational operations, especially for computer-based calculations, because it aligns with stack-based, sequential data processing.\n",
    "\n",
    "### Benefits of Using RPN in the Countdown Game:\n",
    "- **Simplifying Expression Evaluation**: RPN provides a clear sequence of operations without the need for parentheses, reducing complexity when programming a solution.\n",
    "\n",
    "- **Natural Fit for Stack-Based Evaluation**: Using stacks to evaluate RPN expressions aligns with how many algorithms, particularly those in computational theory, operate.\n",
    "\n",
    "- **Ease of Implementing Algorithms**: Recursive and iterative algorithms for solving the Countdown puzzle can be more simply implemented using RPN, as the next operation to perform is \n",
    "always clear\n",
    "\n",
    "### Solving Countdown with RPN:\n",
    "To solve a Countdown puzzle using RPN, one could generate RPN expressions from the given numbers and operations that may lead to the target number. Here's a high-level approach:\n",
    "\n",
    "1. **Select Numbers and Operations**: Choose numbers from the set and decide which operations to perform.\n",
    "\n",
    "2. **Generate RPN Expressions**: Form RPN expressions using the chosen numbers and operations.\n",
    "\n",
    "3. **Evaluate the RPN Expression**: Use a stack to evaluate the RPN expression.\n",
    "\n",
    "4. **Check Against Target**: Compare the result of the expression with the target number.\n",
    "\n",
    "5. **Iterate and Optimize**: Iterate over different combinations of numbers and operations, aiming to find an RPN expression that matches the target number or comes as close as possible."
   ]
  },
  {
   "cell_type": "markdown",
   "metadata": {},
   "source": [
    "### Example of RPN in Action\n",
    "\n",
    "Consider the arithmetic expression `3 + 4 * 2`. In traditional infix notation, this would require understanding the precedence of operations to evaluate it correctly. Converted to RPN, this expression becomes `3 4 2 * +`.\n",
    "\n",
    "#### Evaluation of RPN:\n",
    "1. Push 3 to the stack.\n",
    "2. Push 4 to the stack.\n",
    "3. Push 2 to the stack.\n",
    "4. Pop the top two items (4 and 2), multiply them (resulting in 8), and push the result back to the stack.\n",
    "5. Pop the top two items (3 and 8), add them (resulting in 11), and push the result back to the stack.\n",
    "6. The stack now contains one item, 11, which is the result of the expression.\n",
    "\n",
    "This method ensures that each operation is performed at the correct time, based on its position relative to the operands in the expression.\n"
   ]
  },
  {
   "cell_type": "markdown",
   "metadata": {},
   "source": [
    "### Example Algorithm Implementation:\n",
    "Here's a conceptual algorithm to use RPN in solving the Countdown game. It's a high-level view that can be detailed further depending on the specific requirements of the game and the desired optimization level.  This function should take a string of space-separated tokens representing an RPN expression and use a stack to evaluate it.\n"
   ]
  },
  {
   "cell_type": "code",
   "execution_count": 25,
   "metadata": {},
   "outputs": [],
   "source": [
    "def evaluate_rpn(expression):\n",
    "    \"\"\"Evaluate an RPN expression and return the result.\"\"\"\n",
    "    stack = []\n",
    "    tokens = expression.split()\n",
    "    for token in tokens:\n",
    "        if token.isdigit():  # Assuming all inputs are positive integers\n",
    "            stack.append(int(token))\n",
    "        else:\n",
    "            b = stack.pop()\n",
    "            a = stack.pop()\n",
    "            if token == '+':\n",
    "                stack.append(a + b)\n",
    "            elif token == '-':\n",
    "                stack.append(a - b)\n",
    "            elif token == '*':\n",
    "                stack.append(a * b)\n",
    "            elif token == '/':  # Ensure no division by zero\n",
    "                stack.append(a // b)\n",
    "    return stack.pop()\n"
   ]
  },
  {
   "cell_type": "markdown",
   "metadata": {},
   "source": [
    "### Applying RPN to Solve a Countdown Puzzle\n",
    "\n",
    "Given the numbers `[2, 3, 5, 7]` and a target of `35`, we can form an RPN expression `5 7 * 3 +` which calculates as follows:\n",
    "1. Multiply 5 by 7 to get 35.\n",
    "\n",
    "2. Add 3 to get 38 (slightly over the target but demonstrates the approach).\n",
    "\n",
    "Let's evaluate this using our RPN evaluator.\n"
   ]
  },
  {
   "cell_type": "code",
   "execution_count": 26,
   "metadata": {},
   "outputs": [
    {
     "name": "stdout",
     "output_type": "stream",
     "text": [
      "The result of the RPN expression `5 7 * 3 +` is: 38\n"
     ]
    }
   ],
   "source": [
    "# Example usage:\n",
    "rpn_expression = \"5 7 * 3 +\"\n",
    "result = evaluate_rpn(rpn_expression)\n",
    "print(f\"The result of the RPN expression `{rpn_expression}` is: {result}\")\n"
   ]
  },
  {
   "cell_type": "markdown",
   "metadata": {},
   "source": [
    "---"
   ]
  },
  {
   "cell_type": "markdown",
   "metadata": {},
   "source": [
    "\n",
    "# Recursive Search in Problem Solving\n",
    "Recursive search is a fundamental technique in computer science used to solve problems by breaking them down into simpler, smaller subproblems of the same type. It's particularly effective for tasks where a problem can naturally be divided into cases with overlapping subproblems, such as searching, sorting, and navigating complex data structures.\n",
    "\n",
    "## Understanding Recursive Search\n",
    "At its core, recursive search involves a function calling itself with a modified input until a base condition is met. This method is powerful because it simplifies complex problems into manageable parts, and each recursive call can build upon the results of previous ones.\n",
    "\n",
    "## Advantages of Recursive Search\n",
    "- **Simplicity**: Recursive functions are often easier to write and understand than their iterative counterparts, especially when the problem involves nested or hierarchical data structures.\n",
    "\n",
    "- **Divide and Conquer**: Many algorithms that use recursive search are based on the divide-and-conquer strategy, which divides a problem into two or more subproblems, solves each subproblem recursively, and combines their results.\n",
    "\n",
    "- **Dynamic Programming and Memoization**: Recursive algorithms can be optimized using memoization to store the results of expensive function calls, thus avoiding the need for repeated calculations and improving efficiency."
   ]
  },
  {
   "cell_type": "markdown",
   "metadata": {},
   "source": [
    "### Application of Recursive Search in the Countdown Game\n",
    "The Countdown game, where players must reach a specific target number using a set of given numbers and operations (addition, subtraction, multiplication, and division), lends itself well to a recursive search approach. Players can explore different combinations of numbers and operations recursively to find a solution.\n",
    "\n",
    "### Implementing Recursive Search in the Countdown Game\n",
    "Let’s illustrate how recursive search can be applied in the Countdown game by developing a Python function that attempts to solve the game using recursion."
   ]
  },
  {
   "cell_type": "code",
   "execution_count": 27,
   "metadata": {},
   "outputs": [],
   "source": [
    "def countdown_recursive(numbers, target, current=None, path=[]):\n",
    "    if current is None:\n",
    "        current = numbers[0]\n",
    "        numbers = numbers[1:]\n",
    "        path = [str(current)]\n",
    "\n",
    "    # Base case: Check if the current calculation equals the target\n",
    "    if current == target:\n",
    "        return ' '.join(path)\n",
    "\n",
    "    # If not, continue to search recursively\n",
    "    if not numbers:\n",
    "        return None  # No numbers left to try\n",
    "\n",
    "    for i, num in enumerate(numbers):\n",
    "        # Numbers remaining after removing the current number\n",
    "        remaining = numbers[:i] + numbers[i+1:]\n",
    "\n",
    "        # Try addition\n",
    "        result = countdown_recursive(remaining, target, current + num, path + [f'+ {num}'])\n",
    "        if result:\n",
    "            return result\n",
    "\n",
    "        # Try subtraction\n",
    "        if current - num != current:  # Ensure a new result\n",
    "            result = countdown_recursive(remaining, target, current - num, path + [f'- {num}'])\n",
    "            if result:\n",
    "                return result\n",
    "\n",
    "        # Try multiplication\n",
    "        result = countdown_recursive(remaining, target, current * num, path + [f'* {num}'])\n",
    "        if result:\n",
    "            return result\n",
    "\n",
    "        # Try division, avoiding division by zero and ensuring integer division\n",
    "        if num != 0 and current % num == 0:\n",
    "            result = countdown_recursive(remaining, target, current // num, path + [f'/ {num}'])\n",
    "            if result:\n",
    "                return result\n",
    "\n",
    "    return None  # No solution found"
   ]
  },
  {
   "cell_type": "markdown",
   "metadata": {},
   "source": [
    "This recursive function tries every arithmetic operation possible with each number in the sequence and checks if the current result equals the target. If it doesn’t, it recursively tries all operations with the next number. The base case stops the recursion when a solution is found or when there are no more numbers to process."
   ]
  },
  {
   "cell_type": "markdown",
   "metadata": {},
   "source": [
    "Let’s analyze a detailed example and the potential results from the recursive solution to the Countdown game, assuming the given numbers are `[25, 3, 7, 8]` and the target is `952`."
   ]
  },
  {
   "cell_type": "code",
   "execution_count": 28,
   "metadata": {},
   "outputs": [
    {
     "name": "stdout",
     "output_type": "stream",
     "text": [
      "Solution to reach 952: No solution found\n"
     ]
    }
   ],
   "source": [
    "# Example usage:\n",
    "numbers = [25, 3, 7, 8]\n",
    "target = 952\n",
    "solution = countdown_recursive(numbers, target)\n",
    "print(f\"Solution to reach {target}: {solution if solution else 'No solution found'}\")\n"
   ]
  },
  {
   "cell_type": "markdown",
   "metadata": {},
   "source": [
    "## Undersanding the output of the function\n",
    "The output of the function is `No solution found`, it indicates that the recursive search did not identify any sequence of operations among the given numbers that accurately reaches the target number of `952`. "
   ]
  },
  {
   "cell_type": "markdown",
   "metadata": {},
   "source": [
    "This result highlights the complexity of the Countdown game and the challenges involved in finding solutions that precisely match the target number. The recursive search approach systematically explores different combinations of numbers and operations but may not always guarantee an optimal or exact solution due to the vast search space and constraints of the game.\n",
    "Recursive search is a powerful technique for solving problems by breaking them down into smaller subproblems and exploring all possible combinations. In the context of the Countdown game, recursive search can be used to systematically evaluate different arithmetic operations on a set of numbers to reach a target number. While recursive search provides an effective way to explore solutions, it may not always guarantee an optimal or efficient solution due to the combinatorial nature of the problem. However, it remains a valuable tool in problem-solving, especially for tasks that can be decomposed into simpler subproblems.\n",
    "\n",
    "---"
   ]
  },
  {
   "cell_type": "markdown",
   "metadata": {},
   "source": [
    "# Conclusion\n",
    "In this notebook, we delved into the intricacies of the Countdown game, exploring various computational strategies to tackle its challenges. Through a detailed analysis of computational complexity, algorithmic implications, practical implementations of the solve_numbers function, Reverse Polish Notation (RPN), and recursive search methods, we've gained substantial insights into not only solving a particular game but also the broader application of these concepts in computer science.\n",
    "\n",
    "## Comprehensive Analysis\n",
    "- **Computational Complexity**: We began with an analysis of the computational complexity involved in solving the Countdown game. This foundational understanding set the stage for appreciating the efficiency and feasibility of the algorithms developed later in the notebook.\n",
    "\n",
    "- **Algorithmic Implications:** Discussing the algorithmic implications allowed us to explore the theoretical underpinnings of our practical implementations. This discussion highlighted how algorithm design and complexity considerations directly impact the performance and scalability of our solutions.\n",
    "\n",
    "- **`solve_numbers` Function**: The development of the solve_numbers function showcased a direct application of algorithmic thinking, providing a concrete tool for attempting to solve Countdown puzzles. This function not only served as a practical implementation but also as a test bed for theoretical concepts.\n",
    "\n",
    "## Strategic Implementations\n",
    "- **Reverse Polish Notation (RPN)**: The introduction of RPN offered a streamlined approach to managing mathematical expressions. This method significantly simplified the computational process by eliminating the need for parentheses and clarifying the order of operations, thereby enhancing the readability and efficiency of our solutions.\n",
    "\n",
    "- **Recursive Search**: The exploration of recursive search techniques demonstrated the power and flexibility of using recursion to navigate complex solution spaces. This method proved particularly valuable in methodically breaking down the game's challenges into more manageable sub-problems, facilitating a thorough exploration of potential solutions."
   ]
  },
  {
   "cell_type": "markdown",
   "metadata": {},
   "source": [
    "# References\n",
    "[1] Alliot, Jean-Marc, and Charlie Vanaret. \"(The Final) Countdown.\" EPiC Series in Computer Science, vol. 36, 2015, pp. 14-26. GCAI 2015, Global Conference on Artificial Intelligence. https://easychair.org/publications/open/2L76\n",
    "\n",
    "[2] A Polish Approach to Countdown https://www.ttested.com/polish-countdown/ \n",
    "\n",
    "[3] Brute Force Approach and its pros and cons https://www.geeksforgeeks.org/brute-force-approach-and-its-pros-and-cons/\n",
    "\n",
    "[4] Using heuristics https://www.khanacademy.org/computing/ap-computer-science-principles/algorithms-101/solving-hard-problems/a/using-heuristics\n",
    "\n",
    "[5] Branch and bound vs backtracking https://www.javatpoint.com/branch-and-bound-vs-backtracking\n",
    "\n",
    "[6] Reverse Polish Notation https://www.wallstreetmojo.com/reverse-polish-notation\n",
    "\n",
    "[7] Reverse Polish Notation by Ian Mcloughlin https://ianmcloughlin.github.io/reverse_polish_notation/\n",
    "\n",
    "[8] The Power of Recursion: A Technique for Solving Complex Problems https://www.shiksha.com/online-courses/articles/recursion/#:~:text=Recursion%20is%20a%20technique%20that,case%20that%20stops%20the%20recursion.&text=This%20method%20involves%20checking%20if,base%20case%20in%20a%20function.\n",
    "\n"
   ]
  }
 ],
 "metadata": {
  "kernelspec": {
   "display_name": "base",
   "language": "python",
   "name": "python3"
  },
  "language_info": {
   "codemirror_mode": {
    "name": "ipython",
    "version": 3
   },
   "file_extension": ".py",
   "mimetype": "text/x-python",
   "name": "python",
   "nbconvert_exporter": "python",
   "pygments_lexer": "ipython3",
   "version": "3.9.18"
  }
 },
 "nbformat": 4,
 "nbformat_minor": 2
}
